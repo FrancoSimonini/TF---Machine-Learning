{
  "nbformat": 4,
  "nbformat_minor": 0,
  "metadata": {
    "colab": {
      "provenance": []
    },
    "kernelspec": {
      "name": "python3",
      "display_name": "Python 3"
    },
    "language_info": {
      "name": "python"
    }
  },
  "cells": [
    {
      "cell_type": "code",
      "source": [
        "import pandas as pd\n",
        "import numpy as np"
      ],
      "metadata": {
        "id": "sc9HkOkAs8dv"
      },
      "execution_count": null,
      "outputs": []
    },
    {
      "cell_type": "code",
      "execution_count": null,
      "metadata": {
        "colab": {
          "base_uri": "https://localhost:8080/"
        },
        "id": "rbk-FhZebKgG",
        "outputId": "48c127d6-8bc3-4f43-fdb0-bc2fdf4d3f2b"
      },
      "outputs": [
        {
          "output_type": "stream",
          "name": "stdout",
          "text": [
            "Encabezado:\n",
            "['fecha', 'blockchain', 'token', 'nombre', 'precio', 'ranking', 'categoria']\n",
            "\n",
            "Primeros datos:\n",
            "        fecha       blockchain token                nombre       precio  \\\n",
            "0  2024-05-01  aptos-ecosystem   APT                 Aptos        $8,57   \n",
            "1  2024-05-01  aptos-ecosystem  BONK                  Bonk  $0,00002261   \n",
            "2  2024-05-01  aptos-ecosystem  CAKE           PancakeSwap        $2,53   \n",
            "3  2024-05-01  aptos-ecosystem  CELR         Celer Network     $0,02394   \n",
            "4  2024-05-01  aptos-ecosystem  USDY  Ondo US Dollar Yield        $1,04   \n",
            "\n",
            "   ranking  categoria  \n",
            "0        1          0  \n",
            "1        2          0  \n",
            "2        3          0  \n",
            "3        4          0  \n",
            "4        5          0  \n"
          ]
        }
      ],
      "source": [
        "# Lee el archivo CSV\n",
        "archivo_csv = 'pre_data.csv'\n",
        "datos_csv = pd.read_csv(archivo_csv)\n",
        "\n",
        "# Muestra el encabezado (header)\n",
        "encabezado = datos_csv.columns.tolist()\n",
        "print(\"Encabezado:\")\n",
        "print(encabezado)\n",
        "\n",
        "# Muestra los primeros datos del CSV\n",
        "print(\"\\nPrimeros datos:\")\n",
        "print(datos_csv.head())\n"
      ]
    },
    {
      "cell_type": "code",
      "source": [
        "df = pd.read_csv('pre_data.csv')\n",
        "\n",
        "\n",
        "all_missing = df.isnull().all(axis=1)\n",
        "\n",
        "total_missing = df.isnull().sum().sum()\n",
        "\n",
        "print(\"Filas con todos los datos faltantes:\", all_missing.sum())\n",
        "print(\"Total de datos faltantes:\", total_missing)"
      ],
      "metadata": {
        "colab": {
          "base_uri": "https://localhost:8080/"
        },
        "id": "OhXuyOEvtZdA",
        "outputId": "5b1a66d7-5624-43dd-be7c-037b4072ff95"
      },
      "execution_count": null,
      "outputs": [
        {
          "output_type": "stream",
          "name": "stdout",
          "text": [
            "Filas con todos los datos faltantes: 0\n",
            "Total de datos faltantes: 33\n"
          ]
        }
      ]
    },
    {
      "cell_type": "code",
      "source": [
        "df_clean = df.dropna()\n",
        "\n",
        "# Verifica si hay datos faltantes en el DataFrame limpio\n",
        "if df_clean.isnull().values.any():\n",
        "    print(\"Aún hay datos faltantes después de la limpieza.\")\n",
        "else:\n",
        "    print(\"No hay datos faltantes en el DataFrame limpio.\")\n",
        "\n",
        "# Guarda el DataFrame limpio en un nuevo archivo CSV\n",
        "df_clean.to_csv('datos_limpios.csv', index=False)"
      ],
      "metadata": {
        "colab": {
          "base_uri": "https://localhost:8080/"
        },
        "id": "0SwLGMuJuQDN",
        "outputId": "faa055f0-7db9-4042-a595-86b01c4f4d39"
      },
      "execution_count": null,
      "outputs": [
        {
          "output_type": "stream",
          "name": "stdout",
          "text": [
            "No hay datos faltantes en el DataFrame limpio.\n"
          ]
        }
      ]
    },
    {
      "cell_type": "code",
      "source": [
        "archivo_csv = 'pre_data.csv'\n",
        "datos_csv = pd.read_csv(archivo_csv)\n",
        "\n",
        "datos_filtrados = datos_csv[datos_csv['categoria'] != 0]\n",
        "\n",
        "archivo_filtrado = 'data.csv'\n",
        "datos_filtrados.to_csv(archivo_filtrado, index=False)\n",
        "\n",
        "print(f\"Se han eliminado las filas donde la columna 'categoria' es igual a 0. El archivo '{archivo_filtrado}' ha sido creado.\")\n"
      ],
      "metadata": {
        "colab": {
          "base_uri": "https://localhost:8080/"
        },
        "id": "KNa8WVyScg3u",
        "outputId": "4ebfaf48-5bbc-40bf-d124-a1349d5f7acd"
      },
      "execution_count": null,
      "outputs": [
        {
          "output_type": "stream",
          "name": "stdout",
          "text": [
            "Se han eliminado las filas donde la columna 'categoria' es igual a 0. El archivo 'data.csv' ha sido creado.\n"
          ]
        }
      ]
    }
  ]
}